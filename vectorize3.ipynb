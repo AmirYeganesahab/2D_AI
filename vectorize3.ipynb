{
 "cells": [
  {
   "cell_type": "code",
   "execution_count": 38,
   "metadata": {},
   "outputs": [],
   "source": [
    "import rasterio\n",
    "from skimage.measure import find_contours\n",
    "import geopandas as gpd\n",
    "from shapely.geometry import Polygon\n",
    "from rasterio.crs import CRS\n",
    "import matplotlib.pyplot as plt\n",
    "\n"
   ]
  },
  {
   "cell_type": "code",
   "execution_count": 31,
   "metadata": {},
   "outputs": [],
   "source": [
    "input = '/home/ibex/Documents/tiffReader/30325064/170735614.tif'\n",
    "output = '/home/ibex/Documents/tiffReader/output_vector_file.geojson'\n"
   ]
  },
  {
   "cell_type": "code",
   "execution_count": 32,
   "metadata": {},
   "outputs": [
    {
     "name": "stderr",
     "output_type": "stream",
     "text": [
      "/home/ibex/.local/lib/python3.8/site-packages/rasterio/__init__.py:304: NotGeoreferencedWarning: Dataset has no geotransform, gcps, or rpcs. The identity matrix will be returned.\n",
      "  dataset = DatasetReader(path, driver=driver, sharing=sharing, **kwargs)\n"
     ]
    }
   ],
   "source": [
    "\n",
    "# Open the GeoTIFF file\n",
    "with rasterio.open(input) as src:\n",
    "    # Read the raster data\n",
    "    data = src.read(1)\n",
    "\n",
    "    # Get the metadata\n",
    "    meta = src.meta\n",
    "\n",
    "    # Get the CRS (Coordinate Reference System)\n",
    "    crs = src.crs\n",
    "\n",
    "    # If CRS is None, set it to a default CRS, e.g., EPSG:4326\n",
    "    if crs is None:\n",
    "        crs = CRS.from_dict({'init': 'epsg:4326'})\n",
    "\n",
    "    # Get the transform (geotransform)\n",
    "    transform = src.transform\n",
    "\n"
   ]
  },
  {
   "cell_type": "code",
   "execution_count": 17,
   "metadata": {},
   "outputs": [
    {
     "name": "stderr",
     "output_type": "stream",
     "text": [
      "/home/ibex/.local/lib/python3.8/site-packages/rasterio/__init__.py:304: NotGeoreferencedWarning: Dataset has no geotransform, gcps, or rpcs. The identity matrix will be returned.\n",
      "  dataset = DatasetReader(path, driver=driver, sharing=sharing, **kwargs)\n"
     ]
    }
   ],
   "source": [
    "# Open the GeoTIFF file\n",
    "with rasterio.open(input) as src:\n",
    "    # Read the raster data\n",
    "    data = src.read(1)\n",
    "\n",
    "    # Get the metadata\n",
    "    meta = src.meta\n",
    "\n",
    "    # Get the CRS (Coordinate Reference System)\n",
    "    crs = src.crs\n",
    "     # If CRS is None, set it to a default CRS, e.g., EPSG:4326\n",
    "    if crs is None:\n",
    "        crs = CRS.from_dict({'init': 'epsg:4326'})\n",
    "\n",
    "    # Get the transform (geotransform)\n",
    "    transform = src.transform"
   ]
  },
  {
   "cell_type": "code",
   "execution_count": 34,
   "metadata": {},
   "outputs": [],
   "source": [
    "# Detect contours in the raster data\n",
    "contours = find_contours(data, 0.5)  # Adjust the threshold value as needed\n",
    "\n",
    "# Create a list to store the vector features\n",
    "features = []\n",
    "\n",
    "# Convert contours to vector format\n",
    "for contour in contours:\n",
    "    # Convert contour coordinates to real-world coordinates\n",
    "    coords = rasterio.transform.xy(transform, contour[:, 1], contour[:, 0])\n",
    "\n",
    "    # Create a Polygon geometry from the contour coordinates\n",
    "    poly = Polygon(zip(coords[0], coords[1]))\n",
    "\n",
    "    # Add the feature to the list of features\n",
    "    features.append(poly)\n"
   ]
  },
  {
   "cell_type": "code",
   "execution_count": 35,
   "metadata": {},
   "outputs": [],
   "source": [
    "\n",
    "# Create a GeoDataFrame from the list of features\n",
    "gdf = gpd.GeoDataFrame(geometry=features)"
   ]
  },
  {
   "cell_type": "code",
   "execution_count": 36,
   "metadata": {},
   "outputs": [],
   "source": [
    "# Set the CRS of the GeoDataFrame\n",
    "gdf.crs = crs"
   ]
  },
  {
   "cell_type": "code",
   "execution_count": 37,
   "metadata": {},
   "outputs": [
    {
     "name": "stdout",
     "output_type": "stream",
     "text": [
      "Number of features: 240716\n",
      "CRS: GEOGCS[\"WGS 84\",DATUM[\"WGS_1984\",SPHEROID[\"WGS 84\",6378137,298.257223563,AUTHORITY[\"EPSG\",\"7030\"]],AUTHORITY[\"EPSG\",\"6326\"]],PRIMEM[\"Greenwich\",0,AUTHORITY[\"EPSG\",\"8901\"]],UNIT[\"degree\",0.0174532925199433,AUTHORITY[\"EPSG\",\"9122\"]],AXIS[\"Latitude\",NORTH],AXIS[\"Longitude\",EAST],AUTHORITY[\"EPSG\",\"4326\"]]\n",
      "Sample feature: geometry    POLYGON ((5.00000 75.50000, 4.50000 75.00000, ...\n",
      "Name: 0, dtype: geometry\n"
     ]
    }
   ],
   "source": [
    "\n",
    "\n",
    "# Optionally, you can write the GeoDataFrame to a vector file (e.g., GeoJSON)\n",
    "gdf.to_file(output, driver='GeoJSON')\n",
    "\n",
    "# Print information about the vector data\n",
    "print(\"Number of features:\", len(gdf))\n",
    "print(\"CRS:\", gdf.crs)\n",
    "print(\"Sample feature:\", gdf.iloc[0])\n"
   ]
  },
  {
   "cell_type": "code",
   "execution_count": 39,
   "metadata": {},
   "outputs": [
    {
     "data": {
      "image/png": "[encoded data removed]",
      "text/plain": [
       "<Figure size 432x288 with 1 Axes>"
      ]
     },
     "metadata": {
      "needs_background": "light"
     },
     "output_type": "display_data"
    }
   ],
   "source": [
    "# Plot the GeoDataFrame\n",
    "gdf.plot()\n",
    "\n",
    "# Show the plot\n",
    "plt.show()"
   ]
  },
  {
   "cell_type": "code",
   "execution_count": 40,
   "metadata": {},
   "outputs": [],
   "source": [
    "gdf.to_file('/home/ibex/Documents/tiffReader/output_vector_file.shp')\n"
   ]
  },
  {
   "cell_type": "code",
   "execution_count": null,
   "metadata": {},
   "outputs": [],
   "source": []
  }
 ],
 "metadata": {
  "kernelspec": {
   "display_name": "Python 3",
   "language": "python",
   "name": "python3"
  },
  "language_info": {
   "codemirror_mode": {
    "name": "ipython",
    "version": 3
   },
   "file_extension": ".py",
   "mimetype": "text/x-python",
   "name": "python",
   "nbconvert_exporter": "python",
   "pygments_lexer": "ipython3",
   "version": "3.8.10"
  },
  "orig_nbformat": 4
 },
 "nbformat": 4,
 "nbformat_minor": 2
}
